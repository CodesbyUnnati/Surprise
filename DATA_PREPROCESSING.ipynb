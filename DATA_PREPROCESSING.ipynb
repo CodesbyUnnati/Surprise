{
  "nbformat": 4,
  "nbformat_minor": 0,
  "metadata": {
    "colab": {
      "name": "DATA_PREPROCESSING.ipynb",
      "provenance": [],
      "collapsed_sections": [],
      "authorship_tag": "ABX9TyNnjIhYqZeFUQBv2HZmCW4E",
      "include_colab_link": true
    },
    "kernelspec": {
      "name": "python3",
      "display_name": "Python 3"
    },
    "language_info": {
      "name": "python"
    }
  },
  "cells": [
    {
      "cell_type": "markdown",
      "metadata": {
        "id": "view-in-github",
        "colab_type": "text"
      },
      "source": [
        "<a href=\"https://colab.research.google.com/github/CodesbyUnnati/Surprise/blob/main/DATA_PREPROCESSING.ipynb\" target=\"_parent\"><img src=\"https://colab.research.google.com/assets/colab-badge.svg\" alt=\"Open In Colab\"/></a>"
      ]
    },
    {
      "cell_type": "code",
      "metadata": {
        "id": "hHD34qBipLRS"
      },
      "source": [
        "#import libraries\n",
        "import pandas as pd\n",
        "import numpy as np \n",
        "import datetime\n",
        "\n",
        "from sklearn.model_selection import train_test_split\n",
        "\n",
        "from sklearn.feature_selection import VarianceThreshold"
      ],
      "execution_count": 10,
      "outputs": []
    },
    {
      "cell_type": "code",
      "metadata": {
        "colab": {
          "base_uri": "https://localhost:8080/"
        },
        "id": "Kz1mDuLKpQ4s",
        "outputId": "6f047177-9109-427f-d7b3-6a2c21baab25"
      },
      "source": [
        "#read file and print the number of count of rows and columns(19)\n",
        "df = pd.read_csv(r'/content/H2HBABBA3103.csv')\n",
        "df.shape\n"
      ],
      "execution_count": 11,
      "outputs": [
        {
          "output_type": "execute_result",
          "data": {
            "text/plain": [
              "(50000, 19)"
            ]
          },
          "metadata": {
            "tags": []
          },
          "execution_count": 11
        }
      ]
    },
    {
      "cell_type": "code",
      "metadata": {
        "colab": {
          "base_uri": "https://localhost:8080/",
          "height": 291
        },
        "id": "W2nsqHRapSKM",
        "outputId": "656162b1-8dcf-44de-95fd-5ccf61472d42"
      },
      "source": [
        "# df. head() Returns the first 5 rows of the dataframe.\n",
        "df.head()"
      ],
      "execution_count": 12,
      "outputs": [
        {
          "output_type": "execute_result",
          "data": {
            "text/html": [
              "<div>\n",
              "<style scoped>\n",
              "    .dataframe tbody tr th:only-of-type {\n",
              "        vertical-align: middle;\n",
              "    }\n",
              "\n",
              "    .dataframe tbody tr th {\n",
              "        vertical-align: top;\n",
              "    }\n",
              "\n",
              "    .dataframe thead th {\n",
              "        text-align: right;\n",
              "    }\n",
              "</style>\n",
              "<table border=\"1\" class=\"dataframe\">\n",
              "  <thead>\n",
              "    <tr style=\"text-align: right;\">\n",
              "      <th></th>\n",
              "      <th>business_code</th>\n",
              "      <th>cust_number</th>\n",
              "      <th>name_customer</th>\n",
              "      <th>clear_date</th>\n",
              "      <th>buisness_year</th>\n",
              "      <th>doc_id</th>\n",
              "      <th>posting_date</th>\n",
              "      <th>document_create_date</th>\n",
              "      <th>document_create_date.1</th>\n",
              "      <th>due_in_date</th>\n",
              "      <th>invoice_currency</th>\n",
              "      <th>document type</th>\n",
              "      <th>posting_id</th>\n",
              "      <th>area_business</th>\n",
              "      <th>total_open_amount</th>\n",
              "      <th>baseline_create_date</th>\n",
              "      <th>cust_payment_terms</th>\n",
              "      <th>invoice_id</th>\n",
              "      <th>isOpen</th>\n",
              "    </tr>\n",
              "  </thead>\n",
              "  <tbody>\n",
              "    <tr>\n",
              "      <th>0</th>\n",
              "      <td>U001</td>\n",
              "      <td>0200726979</td>\n",
              "      <td>BJ'S  corp</td>\n",
              "      <td>2019-02-07 00:00:00</td>\n",
              "      <td>2019.0</td>\n",
              "      <td>1.928678e+09</td>\n",
              "      <td>2019-01-23</td>\n",
              "      <td>20190124</td>\n",
              "      <td>20190123</td>\n",
              "      <td>20190207.0</td>\n",
              "      <td>USD</td>\n",
              "      <td>RV</td>\n",
              "      <td>1.0</td>\n",
              "      <td>NaN</td>\n",
              "      <td>304.42</td>\n",
              "      <td>20190123.0</td>\n",
              "      <td>NAA8</td>\n",
              "      <td>1.928678e+09</td>\n",
              "      <td>0</td>\n",
              "    </tr>\n",
              "    <tr>\n",
              "      <th>1</th>\n",
              "      <td>U001</td>\n",
              "      <td>0200792734</td>\n",
              "      <td>MDV/ llc</td>\n",
              "      <td>2019-11-04 00:00:00</td>\n",
              "      <td>2019.0</td>\n",
              "      <td>1.930042e+09</td>\n",
              "      <td>2019-10-22</td>\n",
              "      <td>20191022</td>\n",
              "      <td>20191022</td>\n",
              "      <td>20191106.0</td>\n",
              "      <td>USD</td>\n",
              "      <td>RV</td>\n",
              "      <td>1.0</td>\n",
              "      <td>NaN</td>\n",
              "      <td>551.05</td>\n",
              "      <td>20191022.0</td>\n",
              "      <td>NAA8</td>\n",
              "      <td>1.930042e+09</td>\n",
              "      <td>0</td>\n",
              "    </tr>\n",
              "    <tr>\n",
              "      <th>2</th>\n",
              "      <td>U001</td>\n",
              "      <td>0100031704</td>\n",
              "      <td>DELHAIZE</td>\n",
              "      <td>NaN</td>\n",
              "      <td>2020.0</td>\n",
              "      <td>1.930779e+09</td>\n",
              "      <td>2020-04-13</td>\n",
              "      <td>20200411</td>\n",
              "      <td>20200413</td>\n",
              "      <td>20200428.0</td>\n",
              "      <td>USD</td>\n",
              "      <td>RV</td>\n",
              "      <td>1.0</td>\n",
              "      <td>NaN</td>\n",
              "      <td>41309.35</td>\n",
              "      <td>20200413.0</td>\n",
              "      <td>NAA8</td>\n",
              "      <td>1.930779e+09</td>\n",
              "      <td>1</td>\n",
              "    </tr>\n",
              "    <tr>\n",
              "      <th>3</th>\n",
              "      <td>U001</td>\n",
              "      <td>0200726979</td>\n",
              "      <td>BJ'S  corporation</td>\n",
              "      <td>2019-09-03 00:00:00</td>\n",
              "      <td>2019.0</td>\n",
              "      <td>1.929759e+09</td>\n",
              "      <td>2019-08-18</td>\n",
              "      <td>20190817</td>\n",
              "      <td>20190818</td>\n",
              "      <td>20190902.0</td>\n",
              "      <td>USD</td>\n",
              "      <td>RV</td>\n",
              "      <td>1.0</td>\n",
              "      <td>NaN</td>\n",
              "      <td>782.52</td>\n",
              "      <td>20190818.0</td>\n",
              "      <td>NAA8</td>\n",
              "      <td>1.929759e+09</td>\n",
              "      <td>0</td>\n",
              "    </tr>\n",
              "    <tr>\n",
              "      <th>4</th>\n",
              "      <td>U001</td>\n",
              "      <td>0200984655</td>\n",
              "      <td>PERFOR in</td>\n",
              "      <td>NaN</td>\n",
              "      <td>2020.0</td>\n",
              "      <td>1.930653e+09</td>\n",
              "      <td>2020-03-19</td>\n",
              "      <td>20200314</td>\n",
              "      <td>20200319</td>\n",
              "      <td>20200420.0</td>\n",
              "      <td>USD</td>\n",
              "      <td>RV</td>\n",
              "      <td>1.0</td>\n",
              "      <td>NaN</td>\n",
              "      <td>14666.40</td>\n",
              "      <td>20200319.0</td>\n",
              "      <td>NA32</td>\n",
              "      <td>1.930653e+09</td>\n",
              "      <td>1</td>\n",
              "    </tr>\n",
              "  </tbody>\n",
              "</table>\n",
              "</div>"
            ],
            "text/plain": [
              "  business_code cust_number  ...    invoice_id isOpen\n",
              "0          U001  0200726979  ...  1.928678e+09      0\n",
              "1          U001  0200792734  ...  1.930042e+09      0\n",
              "2          U001  0100031704  ...  1.930779e+09      1\n",
              "3          U001  0200726979  ...  1.929759e+09      0\n",
              "4          U001  0200984655  ...  1.930653e+09      1\n",
              "\n",
              "[5 rows x 19 columns]"
            ]
          },
          "metadata": {
            "tags": []
          },
          "execution_count": 12
        }
      ]
    },
    {
      "cell_type": "code",
      "metadata": {
        "colab": {
          "base_uri": "https://localhost:8080/"
        },
        "id": "WwUkAc3RpTju",
        "outputId": "13570e05-b666-4a0c-835f-a6a4502efbd6"
      },
      "source": [
        "# The info() function is used to print a concise summary of a DataFrame. \n",
        "df.info()"
      ],
      "execution_count": 13,
      "outputs": [
        {
          "output_type": "stream",
          "text": [
            "<class 'pandas.core.frame.DataFrame'>\n",
            "RangeIndex: 50000 entries, 0 to 49999\n",
            "Data columns (total 19 columns):\n",
            " #   Column                  Non-Null Count  Dtype  \n",
            "---  ------                  --------------  -----  \n",
            " 0   business_code           50000 non-null  object \n",
            " 1   cust_number             50000 non-null  object \n",
            " 2   name_customer           50000 non-null  object \n",
            " 3   clear_date              40000 non-null  object \n",
            " 4   buisness_year           50000 non-null  float64\n",
            " 5   doc_id                  50000 non-null  float64\n",
            " 6   posting_date            50000 non-null  object \n",
            " 7   document_create_date    50000 non-null  int64  \n",
            " 8   document_create_date.1  50000 non-null  int64  \n",
            " 9   due_in_date             50000 non-null  float64\n",
            " 10  invoice_currency        50000 non-null  object \n",
            " 11  document type           50000 non-null  object \n",
            " 12  posting_id              50000 non-null  float64\n",
            " 13  area_business           0 non-null      float64\n",
            " 14  total_open_amount       50000 non-null  float64\n",
            " 15  baseline_create_date    50000 non-null  float64\n",
            " 16  cust_payment_terms      50000 non-null  object \n",
            " 17  invoice_id              49994 non-null  float64\n",
            " 18  isOpen                  50000 non-null  int64  \n",
            "dtypes: float64(8), int64(3), object(8)\n",
            "memory usage: 7.2+ MB\n"
          ],
          "name": "stdout"
        }
      ]
    },
    {
      "cell_type": "code",
      "metadata": {
        "colab": {
          "base_uri": "https://localhost:8080/",
          "height": 590
        },
        "id": "5VrRHjuXpVMP",
        "outputId": "1739fcad-9b00-4ed3-d4e6-a03685a80e24"
      },
      "source": [
        "# duplicated data\n",
        "df[df.duplicated()]"
      ],
      "execution_count": 14,
      "outputs": [
        {
          "output_type": "execute_result",
          "data": {
            "text/html": [
              "<div>\n",
              "<style scoped>\n",
              "    .dataframe tbody tr th:only-of-type {\n",
              "        vertical-align: middle;\n",
              "    }\n",
              "\n",
              "    .dataframe tbody tr th {\n",
              "        vertical-align: top;\n",
              "    }\n",
              "\n",
              "    .dataframe thead th {\n",
              "        text-align: right;\n",
              "    }\n",
              "</style>\n",
              "<table border=\"1\" class=\"dataframe\">\n",
              "  <thead>\n",
              "    <tr style=\"text-align: right;\">\n",
              "      <th></th>\n",
              "      <th>business_code</th>\n",
              "      <th>cust_number</th>\n",
              "      <th>name_customer</th>\n",
              "      <th>clear_date</th>\n",
              "      <th>buisness_year</th>\n",
              "      <th>doc_id</th>\n",
              "      <th>posting_date</th>\n",
              "      <th>document_create_date</th>\n",
              "      <th>document_create_date.1</th>\n",
              "      <th>due_in_date</th>\n",
              "      <th>invoice_currency</th>\n",
              "      <th>document type</th>\n",
              "      <th>posting_id</th>\n",
              "      <th>area_business</th>\n",
              "      <th>total_open_amount</th>\n",
              "      <th>baseline_create_date</th>\n",
              "      <th>cust_payment_terms</th>\n",
              "      <th>invoice_id</th>\n",
              "      <th>isOpen</th>\n",
              "    </tr>\n",
              "  </thead>\n",
              "  <tbody>\n",
              "    <tr>\n",
              "      <th>1700</th>\n",
              "      <td>U001</td>\n",
              "      <td>0200769623</td>\n",
              "      <td>WAL-MAR llc</td>\n",
              "      <td>2019-10-09 00:00:00</td>\n",
              "      <td>2019.0</td>\n",
              "      <td>1.929937e+09</td>\n",
              "      <td>2019-09-28</td>\n",
              "      <td>20190927</td>\n",
              "      <td>20190928</td>\n",
              "      <td>20191013.0</td>\n",
              "      <td>USD</td>\n",
              "      <td>RV</td>\n",
              "      <td>1.0</td>\n",
              "      <td>NaN</td>\n",
              "      <td>40564.06</td>\n",
              "      <td>20190928.0</td>\n",
              "      <td>NAH4</td>\n",
              "      <td>1.929937e+09</td>\n",
              "      <td>0</td>\n",
              "    </tr>\n",
              "    <tr>\n",
              "      <th>1829</th>\n",
              "      <td>U001</td>\n",
              "      <td>0200769623</td>\n",
              "      <td>WAL-MAR in</td>\n",
              "      <td>NaN</td>\n",
              "      <td>2020.0</td>\n",
              "      <td>1.930809e+09</td>\n",
              "      <td>2020-04-22</td>\n",
              "      <td>20200421</td>\n",
              "      <td>20200422</td>\n",
              "      <td>20200507.0</td>\n",
              "      <td>USD</td>\n",
              "      <td>RV</td>\n",
              "      <td>1.0</td>\n",
              "      <td>NaN</td>\n",
              "      <td>1329.23</td>\n",
              "      <td>20200422.0</td>\n",
              "      <td>NAH4</td>\n",
              "      <td>1.930809e+09</td>\n",
              "      <td>1</td>\n",
              "    </tr>\n",
              "    <tr>\n",
              "      <th>1883</th>\n",
              "      <td>U001</td>\n",
              "      <td>0200769623</td>\n",
              "      <td>WAL-MAR associates</td>\n",
              "      <td>2019-10-29 00:00:00</td>\n",
              "      <td>2019.0</td>\n",
              "      <td>1.930023e+09</td>\n",
              "      <td>2019-10-18</td>\n",
              "      <td>20191017</td>\n",
              "      <td>20191018</td>\n",
              "      <td>20191102.0</td>\n",
              "      <td>USD</td>\n",
              "      <td>RV</td>\n",
              "      <td>1.0</td>\n",
              "      <td>NaN</td>\n",
              "      <td>935.53</td>\n",
              "      <td>20191018.0</td>\n",
              "      <td>NAH4</td>\n",
              "      <td>1.930023e+09</td>\n",
              "      <td>0</td>\n",
              "    </tr>\n",
              "    <tr>\n",
              "      <th>2958</th>\n",
              "      <td>U001</td>\n",
              "      <td>0200707822</td>\n",
              "      <td>PUBLI us</td>\n",
              "      <td>2019-02-26 00:00:00</td>\n",
              "      <td>2019.0</td>\n",
              "      <td>1.928778e+09</td>\n",
              "      <td>2019-02-11</td>\n",
              "      <td>20190211</td>\n",
              "      <td>20190211</td>\n",
              "      <td>20190226.0</td>\n",
              "      <td>USD</td>\n",
              "      <td>RV</td>\n",
              "      <td>1.0</td>\n",
              "      <td>NaN</td>\n",
              "      <td>20456.42</td>\n",
              "      <td>20190211.0</td>\n",
              "      <td>NAA8</td>\n",
              "      <td>1.928778e+09</td>\n",
              "      <td>0</td>\n",
              "    </tr>\n",
              "    <tr>\n",
              "      <th>3044</th>\n",
              "      <td>U001</td>\n",
              "      <td>0200769623</td>\n",
              "      <td>WAL-MAR corporation</td>\n",
              "      <td>NaN</td>\n",
              "      <td>2020.0</td>\n",
              "      <td>1.930788e+09</td>\n",
              "      <td>2020-04-14</td>\n",
              "      <td>20200415</td>\n",
              "      <td>20200414</td>\n",
              "      <td>20200429.0</td>\n",
              "      <td>USD</td>\n",
              "      <td>RV</td>\n",
              "      <td>1.0</td>\n",
              "      <td>NaN</td>\n",
              "      <td>56202.58</td>\n",
              "      <td>20200414.0</td>\n",
              "      <td>NAH4</td>\n",
              "      <td>1.930788e+09</td>\n",
              "      <td>1</td>\n",
              "    </tr>\n",
              "    <tr>\n",
              "      <th>...</th>\n",
              "      <td>...</td>\n",
              "      <td>...</td>\n",
              "      <td>...</td>\n",
              "      <td>...</td>\n",
              "      <td>...</td>\n",
              "      <td>...</td>\n",
              "      <td>...</td>\n",
              "      <td>...</td>\n",
              "      <td>...</td>\n",
              "      <td>...</td>\n",
              "      <td>...</td>\n",
              "      <td>...</td>\n",
              "      <td>...</td>\n",
              "      <td>...</td>\n",
              "      <td>...</td>\n",
              "      <td>...</td>\n",
              "      <td>...</td>\n",
              "      <td>...</td>\n",
              "      <td>...</td>\n",
              "    </tr>\n",
              "    <tr>\n",
              "      <th>49797</th>\n",
              "      <td>U001</td>\n",
              "      <td>0200769623</td>\n",
              "      <td>WAL-MAR llc</td>\n",
              "      <td>NaN</td>\n",
              "      <td>2020.0</td>\n",
              "      <td>1.930852e+09</td>\n",
              "      <td>2020-05-03</td>\n",
              "      <td>20200502</td>\n",
              "      <td>20200503</td>\n",
              "      <td>20200518.0</td>\n",
              "      <td>USD</td>\n",
              "      <td>RV</td>\n",
              "      <td>1.0</td>\n",
              "      <td>NaN</td>\n",
              "      <td>17477.66</td>\n",
              "      <td>20200503.0</td>\n",
              "      <td>NAH4</td>\n",
              "      <td>1.930852e+09</td>\n",
              "      <td>1</td>\n",
              "    </tr>\n",
              "    <tr>\n",
              "      <th>49853</th>\n",
              "      <td>U001</td>\n",
              "      <td>0200793568</td>\n",
              "      <td>SUPE trust</td>\n",
              "      <td>2019-05-10 00:00:00</td>\n",
              "      <td>2019.0</td>\n",
              "      <td>1.929193e+09</td>\n",
              "      <td>2019-04-25</td>\n",
              "      <td>20190423</td>\n",
              "      <td>20190425</td>\n",
              "      <td>20190510.0</td>\n",
              "      <td>USD</td>\n",
              "      <td>RV</td>\n",
              "      <td>1.0</td>\n",
              "      <td>NaN</td>\n",
              "      <td>2988.50</td>\n",
              "      <td>20190425.0</td>\n",
              "      <td>NAA8</td>\n",
              "      <td>1.929193e+09</td>\n",
              "      <td>0</td>\n",
              "    </tr>\n",
              "    <tr>\n",
              "      <th>49934</th>\n",
              "      <td>U001</td>\n",
              "      <td>0200744019</td>\n",
              "      <td>TARG corp</td>\n",
              "      <td>2019-08-01 00:00:00</td>\n",
              "      <td>2019.0</td>\n",
              "      <td>1.929620e+09</td>\n",
              "      <td>2019-07-16</td>\n",
              "      <td>20190715</td>\n",
              "      <td>20190716</td>\n",
              "      <td>20190731.0</td>\n",
              "      <td>USD</td>\n",
              "      <td>RV</td>\n",
              "      <td>1.0</td>\n",
              "      <td>NaN</td>\n",
              "      <td>14682.08</td>\n",
              "      <td>20190716.0</td>\n",
              "      <td>NAA8</td>\n",
              "      <td>1.929620e+09</td>\n",
              "      <td>0</td>\n",
              "    </tr>\n",
              "    <tr>\n",
              "      <th>49939</th>\n",
              "      <td>U001</td>\n",
              "      <td>0200726979</td>\n",
              "      <td>BJ'S  foundation</td>\n",
              "      <td>2019-04-16 00:00:00</td>\n",
              "      <td>2019.0</td>\n",
              "      <td>1.929062e+09</td>\n",
              "      <td>2019-04-01</td>\n",
              "      <td>20190331</td>\n",
              "      <td>20190401</td>\n",
              "      <td>20190416.0</td>\n",
              "      <td>USD</td>\n",
              "      <td>RV</td>\n",
              "      <td>1.0</td>\n",
              "      <td>NaN</td>\n",
              "      <td>171.92</td>\n",
              "      <td>20190401.0</td>\n",
              "      <td>NAA8</td>\n",
              "      <td>1.929062e+09</td>\n",
              "      <td>0</td>\n",
              "    </tr>\n",
              "    <tr>\n",
              "      <th>49977</th>\n",
              "      <td>CA02</td>\n",
              "      <td>0140104409</td>\n",
              "      <td>LOB</td>\n",
              "      <td>2019-08-16 00:00:00</td>\n",
              "      <td>2019.0</td>\n",
              "      <td>2.960571e+09</td>\n",
              "      <td>2019-08-04</td>\n",
              "      <td>20190804</td>\n",
              "      <td>20190804</td>\n",
              "      <td>20190815.0</td>\n",
              "      <td>CAD</td>\n",
              "      <td>RV</td>\n",
              "      <td>1.0</td>\n",
              "      <td>NaN</td>\n",
              "      <td>278840.01</td>\n",
              "      <td>20190805.0</td>\n",
              "      <td>CA10</td>\n",
              "      <td>2.960571e+09</td>\n",
              "      <td>0</td>\n",
              "    </tr>\n",
              "  </tbody>\n",
              "</table>\n",
              "<p>1164 rows × 19 columns</p>\n",
              "</div>"
            ],
            "text/plain": [
              "      business_code cust_number  ...    invoice_id isOpen\n",
              "1700           U001  0200769623  ...  1.929937e+09      0\n",
              "1829           U001  0200769623  ...  1.930809e+09      1\n",
              "1883           U001  0200769623  ...  1.930023e+09      0\n",
              "2958           U001  0200707822  ...  1.928778e+09      0\n",
              "3044           U001  0200769623  ...  1.930788e+09      1\n",
              "...             ...         ...  ...           ...    ...\n",
              "49797          U001  0200769623  ...  1.930852e+09      1\n",
              "49853          U001  0200793568  ...  1.929193e+09      0\n",
              "49934          U001  0200744019  ...  1.929620e+09      0\n",
              "49939          U001  0200726979  ...  1.929062e+09      0\n",
              "49977          CA02  0140104409  ...  2.960571e+09      0\n",
              "\n",
              "[1164 rows x 19 columns]"
            ]
          },
          "metadata": {
            "tags": []
          },
          "execution_count": 14
        }
      ]
    },
    {
      "cell_type": "code",
      "metadata": {
        "id": "a0jVFIhZpW2H"
      },
      "source": [
        "df['clear_date']=pd.to_datetime(df['clear_date'])"
      ],
      "execution_count": 15,
      "outputs": []
    },
    {
      "cell_type": "code",
      "metadata": {
        "id": "sMD8Nz1o7p8Q",
        "outputId": "0e070964-72d4-4d53-aeb8-f1acebdeb806",
        "colab": {
          "base_uri": "https://localhost:8080/",
          "height": 624
        }
      },
      "source": [
        "df['delay_calculated']=df['clear_date']-df['due_in_date']\n",
        "df"
      ],
      "execution_count": 32,
      "outputs": [
        {
          "output_type": "execute_result",
          "data": {
            "text/html": [
              "<div>\n",
              "<style scoped>\n",
              "    .dataframe tbody tr th:only-of-type {\n",
              "        vertical-align: middle;\n",
              "    }\n",
              "\n",
              "    .dataframe tbody tr th {\n",
              "        vertical-align: top;\n",
              "    }\n",
              "\n",
              "    .dataframe thead th {\n",
              "        text-align: right;\n",
              "    }\n",
              "</style>\n",
              "<table border=\"1\" class=\"dataframe\">\n",
              "  <thead>\n",
              "    <tr style=\"text-align: right;\">\n",
              "      <th></th>\n",
              "      <th>business_code</th>\n",
              "      <th>cust_number</th>\n",
              "      <th>name_customer</th>\n",
              "      <th>clear_date</th>\n",
              "      <th>buisness_year</th>\n",
              "      <th>doc_id</th>\n",
              "      <th>posting_date</th>\n",
              "      <th>document_create_date.1</th>\n",
              "      <th>due_in_date</th>\n",
              "      <th>invoice_currency</th>\n",
              "      <th>document type</th>\n",
              "      <th>posting_id</th>\n",
              "      <th>total_open_amount</th>\n",
              "      <th>baseline_create_date</th>\n",
              "      <th>cust_payment_terms</th>\n",
              "      <th>invoice_id</th>\n",
              "      <th>isOpen</th>\n",
              "      <th>delay_calculated</th>\n",
              "    </tr>\n",
              "  </thead>\n",
              "  <tbody>\n",
              "    <tr>\n",
              "      <th>0</th>\n",
              "      <td>CA02</td>\n",
              "      <td>0140106181</td>\n",
              "      <td>THE  corp</td>\n",
              "      <td>2019-05-01</td>\n",
              "      <td>2019.0</td>\n",
              "      <td>2.960520e+09</td>\n",
              "      <td>2018-12-30</td>\n",
              "      <td>1970-01-01 00:00:00.020181230</td>\n",
              "      <td>1970-01-01 00:00:00.020190110</td>\n",
              "      <td>CAD</td>\n",
              "      <td>RV</td>\n",
              "      <td>1.0</td>\n",
              "      <td>117723.35</td>\n",
              "      <td>1970-01-01 00:00:00.020181231</td>\n",
              "      <td>CA10</td>\n",
              "      <td>2.960520e+09</td>\n",
              "      <td>0</td>\n",
              "      <td>18016 days 23:59:59.979809890</td>\n",
              "    </tr>\n",
              "    <tr>\n",
              "      <th>1</th>\n",
              "      <td>U001</td>\n",
              "      <td>0200769623</td>\n",
              "      <td>WAL-MAR associates</td>\n",
              "      <td>2019-01-09</td>\n",
              "      <td>2019.0</td>\n",
              "      <td>1.928541e+09</td>\n",
              "      <td>2018-12-30</td>\n",
              "      <td>1970-01-01 00:00:00.020181230</td>\n",
              "      <td>1970-01-01 00:00:00.020190114</td>\n",
              "      <td>USD</td>\n",
              "      <td>RV</td>\n",
              "      <td>1.0</td>\n",
              "      <td>14101.89</td>\n",
              "      <td>1970-01-01 00:00:00.020181230</td>\n",
              "      <td>NAH4</td>\n",
              "      <td>1.928541e+09</td>\n",
              "      <td>0</td>\n",
              "      <td>17904 days 23:59:59.979809886</td>\n",
              "    </tr>\n",
              "    <tr>\n",
              "      <th>2</th>\n",
              "      <td>CA02</td>\n",
              "      <td>0140106408</td>\n",
              "      <td>WAL-M in</td>\n",
              "      <td>2019-01-25</td>\n",
              "      <td>2019.0</td>\n",
              "      <td>2.960520e+09</td>\n",
              "      <td>2018-12-30</td>\n",
              "      <td>1970-01-01 00:00:00.020181230</td>\n",
              "      <td>1970-01-01 00:00:00.020190109</td>\n",
              "      <td>CAD</td>\n",
              "      <td>RV</td>\n",
              "      <td>1.0</td>\n",
              "      <td>2023.32</td>\n",
              "      <td>1970-01-01 00:00:00.020181230</td>\n",
              "      <td>CA10</td>\n",
              "      <td>2.960520e+09</td>\n",
              "      <td>0</td>\n",
              "      <td>17920 days 23:59:59.979809891</td>\n",
              "    </tr>\n",
              "    <tr>\n",
              "      <th>3</th>\n",
              "      <td>U001</td>\n",
              "      <td>0200769623</td>\n",
              "      <td>WAL-MAR us</td>\n",
              "      <td>2019-01-09</td>\n",
              "      <td>2019.0</td>\n",
              "      <td>1.928533e+09</td>\n",
              "      <td>2018-12-30</td>\n",
              "      <td>1970-01-01 00:00:00.020181230</td>\n",
              "      <td>1970-01-01 00:00:00.020190114</td>\n",
              "      <td>USD</td>\n",
              "      <td>RV</td>\n",
              "      <td>1.0</td>\n",
              "      <td>15898.07</td>\n",
              "      <td>1970-01-01 00:00:00.020181230</td>\n",
              "      <td>NAH4</td>\n",
              "      <td>1.928533e+09</td>\n",
              "      <td>0</td>\n",
              "      <td>17904 days 23:59:59.979809886</td>\n",
              "    </tr>\n",
              "    <tr>\n",
              "      <th>4</th>\n",
              "      <td>U001</td>\n",
              "      <td>0200769623</td>\n",
              "      <td>WAL-MAR associates</td>\n",
              "      <td>2019-01-09</td>\n",
              "      <td>2019.0</td>\n",
              "      <td>1.928541e+09</td>\n",
              "      <td>2018-12-30</td>\n",
              "      <td>1970-01-01 00:00:00.020181230</td>\n",
              "      <td>1970-01-01 00:00:00.020190114</td>\n",
              "      <td>USD</td>\n",
              "      <td>RV</td>\n",
              "      <td>1.0</td>\n",
              "      <td>14101.89</td>\n",
              "      <td>1970-01-01 00:00:00.020181230</td>\n",
              "      <td>NAH4</td>\n",
              "      <td>1.928541e+09</td>\n",
              "      <td>0</td>\n",
              "      <td>17904 days 23:59:59.979809886</td>\n",
              "    </tr>\n",
              "    <tr>\n",
              "      <th>...</th>\n",
              "      <td>...</td>\n",
              "      <td>...</td>\n",
              "      <td>...</td>\n",
              "      <td>...</td>\n",
              "      <td>...</td>\n",
              "      <td>...</td>\n",
              "      <td>...</td>\n",
              "      <td>...</td>\n",
              "      <td>...</td>\n",
              "      <td>...</td>\n",
              "      <td>...</td>\n",
              "      <td>...</td>\n",
              "      <td>...</td>\n",
              "      <td>...</td>\n",
              "      <td>...</td>\n",
              "      <td>...</td>\n",
              "      <td>...</td>\n",
              "      <td>...</td>\n",
              "    </tr>\n",
              "    <tr>\n",
              "      <th>49995</th>\n",
              "      <td>U001</td>\n",
              "      <td>200765011</td>\n",
              "      <td>MAINES systems</td>\n",
              "      <td>NaT</td>\n",
              "      <td>2020.0</td>\n",
              "      <td>1.930915e+09</td>\n",
              "      <td>2020-05-18</td>\n",
              "      <td>1970-01-01 00:00:00.020200518</td>\n",
              "      <td>1970-01-01 00:00:00.020200602</td>\n",
              "      <td>USD</td>\n",
              "      <td>RV</td>\n",
              "      <td>1.0</td>\n",
              "      <td>16099.20</td>\n",
              "      <td>1970-01-01 00:00:00.020200518</td>\n",
              "      <td>NAA8</td>\n",
              "      <td>1.930915e+09</td>\n",
              "      <td>1</td>\n",
              "      <td>NaT</td>\n",
              "    </tr>\n",
              "    <tr>\n",
              "      <th>49996</th>\n",
              "      <td>U001</td>\n",
              "      <td>200875680</td>\n",
              "      <td>MINERS</td>\n",
              "      <td>NaT</td>\n",
              "      <td>2020.0</td>\n",
              "      <td>1.930911e+09</td>\n",
              "      <td>2020-05-18</td>\n",
              "      <td>1970-01-01 00:00:00.020200518</td>\n",
              "      <td>1970-01-01 00:00:00.020200602</td>\n",
              "      <td>USD</td>\n",
              "      <td>RV</td>\n",
              "      <td>1.0</td>\n",
              "      <td>119248.83</td>\n",
              "      <td>1970-01-01 00:00:00.020200518</td>\n",
              "      <td>NAA8</td>\n",
              "      <td>1.930911e+09</td>\n",
              "      <td>1</td>\n",
              "      <td>NaT</td>\n",
              "    </tr>\n",
              "    <tr>\n",
              "      <th>49997</th>\n",
              "      <td>U001</td>\n",
              "      <td>0200464724</td>\n",
              "      <td>LAND</td>\n",
              "      <td>NaT</td>\n",
              "      <td>2020.0</td>\n",
              "      <td>1.930914e+09</td>\n",
              "      <td>2020-05-19</td>\n",
              "      <td>1970-01-01 00:00:00.020200519</td>\n",
              "      <td>1970-01-01 00:00:00.020200529</td>\n",
              "      <td>USD</td>\n",
              "      <td>RV</td>\n",
              "      <td>1.0</td>\n",
              "      <td>194864.00</td>\n",
              "      <td>1970-01-01 00:00:00.020200519</td>\n",
              "      <td>NA10</td>\n",
              "      <td>1.930914e+09</td>\n",
              "      <td>1</td>\n",
              "      <td>NaT</td>\n",
              "    </tr>\n",
              "    <tr>\n",
              "      <th>49998</th>\n",
              "      <td>U001</td>\n",
              "      <td>0200756072</td>\n",
              "      <td>REINHA llc</td>\n",
              "      <td>NaT</td>\n",
              "      <td>2020.0</td>\n",
              "      <td>1.930927e+09</td>\n",
              "      <td>2020-05-21</td>\n",
              "      <td>1970-01-01 00:00:00.020200521</td>\n",
              "      <td>1970-01-01 00:00:00.020200620</td>\n",
              "      <td>USD</td>\n",
              "      <td>RV</td>\n",
              "      <td>1.0</td>\n",
              "      <td>2.50</td>\n",
              "      <td>1970-01-01 00:00:00.020200521</td>\n",
              "      <td>NAD5</td>\n",
              "      <td>1.930927e+09</td>\n",
              "      <td>1</td>\n",
              "      <td>NaT</td>\n",
              "    </tr>\n",
              "    <tr>\n",
              "      <th>49999</th>\n",
              "      <td>U001</td>\n",
              "      <td>0200756072</td>\n",
              "      <td>REINHA us</td>\n",
              "      <td>NaT</td>\n",
              "      <td>2020.0</td>\n",
              "      <td>1.930934e+09</td>\n",
              "      <td>2020-05-22</td>\n",
              "      <td>1970-01-01 00:00:00.020200522</td>\n",
              "      <td>1970-01-01 00:00:00.020200621</td>\n",
              "      <td>USD</td>\n",
              "      <td>RV</td>\n",
              "      <td>1.0</td>\n",
              "      <td>1.17</td>\n",
              "      <td>1970-01-01 00:00:00.020200522</td>\n",
              "      <td>NAD5</td>\n",
              "      <td>1.930934e+09</td>\n",
              "      <td>1</td>\n",
              "      <td>NaT</td>\n",
              "    </tr>\n",
              "  </tbody>\n",
              "</table>\n",
              "<p>50000 rows × 18 columns</p>\n",
              "</div>"
            ],
            "text/plain": [
              "      business_code cust_number  ... isOpen              delay_calculated\n",
              "0              CA02  0140106181  ...      0 18016 days 23:59:59.979809890\n",
              "1              U001  0200769623  ...      0 17904 days 23:59:59.979809886\n",
              "2              CA02  0140106408  ...      0 17920 days 23:59:59.979809891\n",
              "3              U001  0200769623  ...      0 17904 days 23:59:59.979809886\n",
              "4              U001  0200769623  ...      0 17904 days 23:59:59.979809886\n",
              "...             ...         ...  ...    ...                           ...\n",
              "49995          U001   200765011  ...      1                           NaT\n",
              "49996          U001   200875680  ...      1                           NaT\n",
              "49997          U001  0200464724  ...      1                           NaT\n",
              "49998          U001  0200756072  ...      1                           NaT\n",
              "49999          U001  0200756072  ...      1                           NaT\n",
              "\n",
              "[50000 rows x 18 columns]"
            ]
          },
          "metadata": {
            "tags": []
          },
          "execution_count": 32
        }
      ]
    },
    {
      "cell_type": "code",
      "metadata": {
        "colab": {
          "base_uri": "https://localhost:8080/"
        },
        "id": "b0Rh8VgEpYdx",
        "outputId": "40188021-ad4a-424d-9ac7-a716c68ee75f"
      },
      "source": [
        "df.dtypes"
      ],
      "execution_count": 18,
      "outputs": [
        {
          "output_type": "execute_result",
          "data": {
            "text/plain": [
              "business_code                     object\n",
              "cust_number                       object\n",
              "name_customer                     object\n",
              "clear_date                datetime64[ns]\n",
              "buisness_year                    float64\n",
              "doc_id                           float64\n",
              "posting_date                      object\n",
              "document_create_date               int64\n",
              "document_create_date.1             int64\n",
              "due_in_date                      float64\n",
              "invoice_currency                  object\n",
              "document type                     object\n",
              "posting_id                       float64\n",
              "area_business                    float64\n",
              "total_open_amount                float64\n",
              "baseline_create_date             float64\n",
              "cust_payment_terms                object\n",
              "invoice_id                       float64\n",
              "isOpen                             int64\n",
              "dtype: object"
            ]
          },
          "metadata": {
            "tags": []
          },
          "execution_count": 18
        }
      ]
    },
    {
      "cell_type": "code",
      "metadata": {
        "id": "awFPW3irpaKt"
      },
      "source": [
        "df['posting_date']=pd.to_datetime(df['posting_date'])"
      ],
      "execution_count": 19,
      "outputs": []
    },
    {
      "cell_type": "code",
      "metadata": {
        "id": "zuV-RdfCpbtY"
      },
      "source": [
        "df['document_create_date.1']=pd.to_datetime(df['document_create_date.1'])"
      ],
      "execution_count": 20,
      "outputs": []
    },
    {
      "cell_type": "code",
      "metadata": {
        "id": "VtCPJHN4pdzH"
      },
      "source": [
        "df['due_in_date']=pd.to_datetime(df['due_in_date'])"
      ],
      "execution_count": 21,
      "outputs": []
    },
    {
      "cell_type": "code",
      "metadata": {
        "id": "bulg9Z9qpfTn"
      },
      "source": [
        "df['baseline_create_date']=pd.to_datetime(df['baseline_create_date'])"
      ],
      "execution_count": 22,
      "outputs": []
    },
    {
      "cell_type": "code",
      "metadata": {
        "colab": {
          "base_uri": "https://localhost:8080/"
        },
        "id": "IWAODSalpi-Y",
        "outputId": "4a0257cf-fc28-4efb-edc3-392091cd6594"
      },
      "source": [
        "df.dtypes"
      ],
      "execution_count": 23,
      "outputs": [
        {
          "output_type": "execute_result",
          "data": {
            "text/plain": [
              "business_code                     object\n",
              "cust_number                       object\n",
              "name_customer                     object\n",
              "clear_date                datetime64[ns]\n",
              "buisness_year                    float64\n",
              "doc_id                           float64\n",
              "posting_date              datetime64[ns]\n",
              "document_create_date               int64\n",
              "document_create_date.1    datetime64[ns]\n",
              "due_in_date               datetime64[ns]\n",
              "invoice_currency                  object\n",
              "document type                     object\n",
              "posting_id                       float64\n",
              "area_business                    float64\n",
              "total_open_amount                float64\n",
              "baseline_create_date      datetime64[ns]\n",
              "cust_payment_terms                object\n",
              "invoice_id                       float64\n",
              "isOpen                             int64\n",
              "dtype: object"
            ]
          },
          "metadata": {
            "tags": []
          },
          "execution_count": 23
        }
      ]
    },
    {
      "cell_type": "code",
      "metadata": {
        "colab": {
          "base_uri": "https://localhost:8080/",
          "height": 624
        },
        "id": "iQpCK1KTplwV",
        "outputId": "f41791a8-915a-4199-bcf6-e098aa7d2389"
      },
      "source": [
        "# sort as per posting date\n",
        "df.sort_values(['posting_date'],inplace=True)\n",
        "df.reset_index(inplace=True,drop=True)\n",
        "df"
      ],
      "execution_count": 24,
      "outputs": [
        {
          "output_type": "execute_result",
          "data": {
            "text/html": [
              "<div>\n",
              "<style scoped>\n",
              "    .dataframe tbody tr th:only-of-type {\n",
              "        vertical-align: middle;\n",
              "    }\n",
              "\n",
              "    .dataframe tbody tr th {\n",
              "        vertical-align: top;\n",
              "    }\n",
              "\n",
              "    .dataframe thead th {\n",
              "        text-align: right;\n",
              "    }\n",
              "</style>\n",
              "<table border=\"1\" class=\"dataframe\">\n",
              "  <thead>\n",
              "    <tr style=\"text-align: right;\">\n",
              "      <th></th>\n",
              "      <th>business_code</th>\n",
              "      <th>cust_number</th>\n",
              "      <th>name_customer</th>\n",
              "      <th>clear_date</th>\n",
              "      <th>buisness_year</th>\n",
              "      <th>doc_id</th>\n",
              "      <th>posting_date</th>\n",
              "      <th>document_create_date</th>\n",
              "      <th>document_create_date.1</th>\n",
              "      <th>due_in_date</th>\n",
              "      <th>invoice_currency</th>\n",
              "      <th>document type</th>\n",
              "      <th>posting_id</th>\n",
              "      <th>area_business</th>\n",
              "      <th>total_open_amount</th>\n",
              "      <th>baseline_create_date</th>\n",
              "      <th>cust_payment_terms</th>\n",
              "      <th>invoice_id</th>\n",
              "      <th>isOpen</th>\n",
              "    </tr>\n",
              "  </thead>\n",
              "  <tbody>\n",
              "    <tr>\n",
              "      <th>0</th>\n",
              "      <td>CA02</td>\n",
              "      <td>0140106181</td>\n",
              "      <td>THE  corp</td>\n",
              "      <td>2019-05-01</td>\n",
              "      <td>2019.0</td>\n",
              "      <td>2.960520e+09</td>\n",
              "      <td>2018-12-30</td>\n",
              "      <td>20181230</td>\n",
              "      <td>1970-01-01 00:00:00.020181230</td>\n",
              "      <td>1970-01-01 00:00:00.020190110</td>\n",
              "      <td>CAD</td>\n",
              "      <td>RV</td>\n",
              "      <td>1.0</td>\n",
              "      <td>NaN</td>\n",
              "      <td>117723.35</td>\n",
              "      <td>1970-01-01 00:00:00.020181231</td>\n",
              "      <td>CA10</td>\n",
              "      <td>2.960520e+09</td>\n",
              "      <td>0</td>\n",
              "    </tr>\n",
              "    <tr>\n",
              "      <th>1</th>\n",
              "      <td>U001</td>\n",
              "      <td>0200769623</td>\n",
              "      <td>WAL-MAR associates</td>\n",
              "      <td>2019-01-09</td>\n",
              "      <td>2019.0</td>\n",
              "      <td>1.928541e+09</td>\n",
              "      <td>2018-12-30</td>\n",
              "      <td>20181229</td>\n",
              "      <td>1970-01-01 00:00:00.020181230</td>\n",
              "      <td>1970-01-01 00:00:00.020190114</td>\n",
              "      <td>USD</td>\n",
              "      <td>RV</td>\n",
              "      <td>1.0</td>\n",
              "      <td>NaN</td>\n",
              "      <td>14101.89</td>\n",
              "      <td>1970-01-01 00:00:00.020181230</td>\n",
              "      <td>NAH4</td>\n",
              "      <td>1.928541e+09</td>\n",
              "      <td>0</td>\n",
              "    </tr>\n",
              "    <tr>\n",
              "      <th>2</th>\n",
              "      <td>CA02</td>\n",
              "      <td>0140106408</td>\n",
              "      <td>WAL-M in</td>\n",
              "      <td>2019-01-25</td>\n",
              "      <td>2019.0</td>\n",
              "      <td>2.960520e+09</td>\n",
              "      <td>2018-12-30</td>\n",
              "      <td>20181230</td>\n",
              "      <td>1970-01-01 00:00:00.020181230</td>\n",
              "      <td>1970-01-01 00:00:00.020190109</td>\n",
              "      <td>CAD</td>\n",
              "      <td>RV</td>\n",
              "      <td>1.0</td>\n",
              "      <td>NaN</td>\n",
              "      <td>2023.32</td>\n",
              "      <td>1970-01-01 00:00:00.020181230</td>\n",
              "      <td>CA10</td>\n",
              "      <td>2.960520e+09</td>\n",
              "      <td>0</td>\n",
              "    </tr>\n",
              "    <tr>\n",
              "      <th>3</th>\n",
              "      <td>U001</td>\n",
              "      <td>0200769623</td>\n",
              "      <td>WAL-MAR us</td>\n",
              "      <td>2019-01-09</td>\n",
              "      <td>2019.0</td>\n",
              "      <td>1.928533e+09</td>\n",
              "      <td>2018-12-30</td>\n",
              "      <td>20181229</td>\n",
              "      <td>1970-01-01 00:00:00.020181230</td>\n",
              "      <td>1970-01-01 00:00:00.020190114</td>\n",
              "      <td>USD</td>\n",
              "      <td>RV</td>\n",
              "      <td>1.0</td>\n",
              "      <td>NaN</td>\n",
              "      <td>15898.07</td>\n",
              "      <td>1970-01-01 00:00:00.020181230</td>\n",
              "      <td>NAH4</td>\n",
              "      <td>1.928533e+09</td>\n",
              "      <td>0</td>\n",
              "    </tr>\n",
              "    <tr>\n",
              "      <th>4</th>\n",
              "      <td>U001</td>\n",
              "      <td>0200769623</td>\n",
              "      <td>WAL-MAR associates</td>\n",
              "      <td>2019-01-09</td>\n",
              "      <td>2019.0</td>\n",
              "      <td>1.928541e+09</td>\n",
              "      <td>2018-12-30</td>\n",
              "      <td>20181229</td>\n",
              "      <td>1970-01-01 00:00:00.020181230</td>\n",
              "      <td>1970-01-01 00:00:00.020190114</td>\n",
              "      <td>USD</td>\n",
              "      <td>RV</td>\n",
              "      <td>1.0</td>\n",
              "      <td>NaN</td>\n",
              "      <td>14101.89</td>\n",
              "      <td>1970-01-01 00:00:00.020181230</td>\n",
              "      <td>NAH4</td>\n",
              "      <td>1.928541e+09</td>\n",
              "      <td>0</td>\n",
              "    </tr>\n",
              "    <tr>\n",
              "      <th>...</th>\n",
              "      <td>...</td>\n",
              "      <td>...</td>\n",
              "      <td>...</td>\n",
              "      <td>...</td>\n",
              "      <td>...</td>\n",
              "      <td>...</td>\n",
              "      <td>...</td>\n",
              "      <td>...</td>\n",
              "      <td>...</td>\n",
              "      <td>...</td>\n",
              "      <td>...</td>\n",
              "      <td>...</td>\n",
              "      <td>...</td>\n",
              "      <td>...</td>\n",
              "      <td>...</td>\n",
              "      <td>...</td>\n",
              "      <td>...</td>\n",
              "      <td>...</td>\n",
              "      <td>...</td>\n",
              "    </tr>\n",
              "    <tr>\n",
              "      <th>49995</th>\n",
              "      <td>U001</td>\n",
              "      <td>200765011</td>\n",
              "      <td>MAINES systems</td>\n",
              "      <td>NaT</td>\n",
              "      <td>2020.0</td>\n",
              "      <td>1.930915e+09</td>\n",
              "      <td>2020-05-18</td>\n",
              "      <td>20200518</td>\n",
              "      <td>1970-01-01 00:00:00.020200518</td>\n",
              "      <td>1970-01-01 00:00:00.020200602</td>\n",
              "      <td>USD</td>\n",
              "      <td>RV</td>\n",
              "      <td>1.0</td>\n",
              "      <td>NaN</td>\n",
              "      <td>16099.20</td>\n",
              "      <td>1970-01-01 00:00:00.020200518</td>\n",
              "      <td>NAA8</td>\n",
              "      <td>1.930915e+09</td>\n",
              "      <td>1</td>\n",
              "    </tr>\n",
              "    <tr>\n",
              "      <th>49996</th>\n",
              "      <td>U001</td>\n",
              "      <td>200875680</td>\n",
              "      <td>MINERS</td>\n",
              "      <td>NaT</td>\n",
              "      <td>2020.0</td>\n",
              "      <td>1.930911e+09</td>\n",
              "      <td>2020-05-18</td>\n",
              "      <td>20200516</td>\n",
              "      <td>1970-01-01 00:00:00.020200518</td>\n",
              "      <td>1970-01-01 00:00:00.020200602</td>\n",
              "      <td>USD</td>\n",
              "      <td>RV</td>\n",
              "      <td>1.0</td>\n",
              "      <td>NaN</td>\n",
              "      <td>119248.83</td>\n",
              "      <td>1970-01-01 00:00:00.020200518</td>\n",
              "      <td>NAA8</td>\n",
              "      <td>1.930911e+09</td>\n",
              "      <td>1</td>\n",
              "    </tr>\n",
              "    <tr>\n",
              "      <th>49997</th>\n",
              "      <td>U001</td>\n",
              "      <td>0200464724</td>\n",
              "      <td>LAND</td>\n",
              "      <td>NaT</td>\n",
              "      <td>2020.0</td>\n",
              "      <td>1.930914e+09</td>\n",
              "      <td>2020-05-19</td>\n",
              "      <td>20200519</td>\n",
              "      <td>1970-01-01 00:00:00.020200519</td>\n",
              "      <td>1970-01-01 00:00:00.020200529</td>\n",
              "      <td>USD</td>\n",
              "      <td>RV</td>\n",
              "      <td>1.0</td>\n",
              "      <td>NaN</td>\n",
              "      <td>194864.00</td>\n",
              "      <td>1970-01-01 00:00:00.020200519</td>\n",
              "      <td>NA10</td>\n",
              "      <td>1.930914e+09</td>\n",
              "      <td>1</td>\n",
              "    </tr>\n",
              "    <tr>\n",
              "      <th>49998</th>\n",
              "      <td>U001</td>\n",
              "      <td>0200756072</td>\n",
              "      <td>REINHA llc</td>\n",
              "      <td>NaT</td>\n",
              "      <td>2020.0</td>\n",
              "      <td>1.930927e+09</td>\n",
              "      <td>2020-05-21</td>\n",
              "      <td>20200521</td>\n",
              "      <td>1970-01-01 00:00:00.020200521</td>\n",
              "      <td>1970-01-01 00:00:00.020200620</td>\n",
              "      <td>USD</td>\n",
              "      <td>RV</td>\n",
              "      <td>1.0</td>\n",
              "      <td>NaN</td>\n",
              "      <td>2.50</td>\n",
              "      <td>1970-01-01 00:00:00.020200521</td>\n",
              "      <td>NAD5</td>\n",
              "      <td>1.930927e+09</td>\n",
              "      <td>1</td>\n",
              "    </tr>\n",
              "    <tr>\n",
              "      <th>49999</th>\n",
              "      <td>U001</td>\n",
              "      <td>0200756072</td>\n",
              "      <td>REINHA us</td>\n",
              "      <td>NaT</td>\n",
              "      <td>2020.0</td>\n",
              "      <td>1.930934e+09</td>\n",
              "      <td>2020-05-22</td>\n",
              "      <td>20200522</td>\n",
              "      <td>1970-01-01 00:00:00.020200522</td>\n",
              "      <td>1970-01-01 00:00:00.020200621</td>\n",
              "      <td>USD</td>\n",
              "      <td>RV</td>\n",
              "      <td>1.0</td>\n",
              "      <td>NaN</td>\n",
              "      <td>1.17</td>\n",
              "      <td>1970-01-01 00:00:00.020200522</td>\n",
              "      <td>NAD5</td>\n",
              "      <td>1.930934e+09</td>\n",
              "      <td>1</td>\n",
              "    </tr>\n",
              "  </tbody>\n",
              "</table>\n",
              "<p>50000 rows × 19 columns</p>\n",
              "</div>"
            ],
            "text/plain": [
              "      business_code cust_number  ...    invoice_id isOpen\n",
              "0              CA02  0140106181  ...  2.960520e+09      0\n",
              "1              U001  0200769623  ...  1.928541e+09      0\n",
              "2              CA02  0140106408  ...  2.960520e+09      0\n",
              "3              U001  0200769623  ...  1.928533e+09      0\n",
              "4              U001  0200769623  ...  1.928541e+09      0\n",
              "...             ...         ...  ...           ...    ...\n",
              "49995          U001   200765011  ...  1.930915e+09      1\n",
              "49996          U001   200875680  ...  1.930911e+09      1\n",
              "49997          U001  0200464724  ...  1.930914e+09      1\n",
              "49998          U001  0200756072  ...  1.930927e+09      1\n",
              "49999          U001  0200756072  ...  1.930934e+09      1\n",
              "\n",
              "[50000 rows x 19 columns]"
            ]
          },
          "metadata": {
            "tags": []
          },
          "execution_count": 24
        }
      ]
    },
    {
      "cell_type": "code",
      "metadata": {
        "id": "lfskEeNCpn32"
      },
      "source": [
        "# dropped  column\n",
        "df.drop(['document_create_date'],\n",
        "  axis=1, inplace=True)"
      ],
      "execution_count": 25,
      "outputs": []
    },
    {
      "cell_type": "code",
      "metadata": {
        "id": "dlkG01WApoi-"
      },
      "source": [
        "# dropped  column\n",
        "df.drop(['area_business'], axis=1,inplace=True)"
      ],
      "execution_count": 26,
      "outputs": []
    },
    {
      "cell_type": "code",
      "metadata": {
        "colab": {
          "base_uri": "https://localhost:8080/"
        },
        "id": "tpqvN6Ltpr95",
        "outputId": "4471ad24-454c-4b62-de44-75462b94ff8a"
      },
      "source": [
        "\n",
        "df.dtypes"
      ],
      "execution_count": 27,
      "outputs": [
        {
          "output_type": "execute_result",
          "data": {
            "text/plain": [
              "business_code                     object\n",
              "cust_number                       object\n",
              "name_customer                     object\n",
              "clear_date                datetime64[ns]\n",
              "buisness_year                    float64\n",
              "doc_id                           float64\n",
              "posting_date              datetime64[ns]\n",
              "document_create_date.1    datetime64[ns]\n",
              "due_in_date               datetime64[ns]\n",
              "invoice_currency                  object\n",
              "document type                     object\n",
              "posting_id                       float64\n",
              "total_open_amount                float64\n",
              "baseline_create_date      datetime64[ns]\n",
              "cust_payment_terms                object\n",
              "invoice_id                       float64\n",
              "isOpen                             int64\n",
              "dtype: object"
            ]
          },
          "metadata": {
            "tags": []
          },
          "execution_count": 27
        }
      ]
    },
    {
      "cell_type": "code",
      "metadata": {
        "colab": {
          "base_uri": "https://localhost:8080/"
        },
        "id": "N6WzMESDptvu",
        "outputId": "e61940f3-7736-4064-f291-c68390ab1a4c"
      },
      "source": [
        "# list out null values\n",
        "df.clear_date.isnull()"
      ],
      "execution_count": 28,
      "outputs": [
        {
          "output_type": "execute_result",
          "data": {
            "text/plain": [
              "0        False\n",
              "1        False\n",
              "2        False\n",
              "3        False\n",
              "4        False\n",
              "         ...  \n",
              "49995     True\n",
              "49996     True\n",
              "49997     True\n",
              "49998     True\n",
              "49999     True\n",
              "Name: clear_date, Length: 50000, dtype: bool"
            ]
          },
          "metadata": {
            "tags": []
          },
          "execution_count": 28
        }
      ]
    },
    {
      "cell_type": "code",
      "metadata": {
        "colab": {
          "base_uri": "https://localhost:8080/"
        },
        "id": "Q2zJh6qlpvPg",
        "outputId": "524e9663-df00-4a5c-8631-4d2978798b5f"
      },
      "source": [
        "#  list out not null values\n",
        "~df.clear_date.isnull()"
      ],
      "execution_count": 29,
      "outputs": [
        {
          "output_type": "execute_result",
          "data": {
            "text/plain": [
              "0         True\n",
              "1         True\n",
              "2         True\n",
              "3         True\n",
              "4         True\n",
              "         ...  \n",
              "49995    False\n",
              "49996    False\n",
              "49997    False\n",
              "49998    False\n",
              "49999    False\n",
              "Name: clear_date, Length: 50000, dtype: bool"
            ]
          },
          "metadata": {
            "tags": []
          },
          "execution_count": 29
        }
      ]
    },
    {
      "cell_type": "code",
      "metadata": {
        "colab": {
          "base_uri": "https://localhost:8080/"
        },
        "id": "K_nP-rJPrMM5",
        "outputId": "04781d08-9d3a-45f9-801a-a3251415af39"
      },
      "source": [
        "df.posting_id.isnull()"
      ],
      "execution_count": 30,
      "outputs": [
        {
          "output_type": "execute_result",
          "data": {
            "text/plain": [
              "0        False\n",
              "1        False\n",
              "2        False\n",
              "3        False\n",
              "4        False\n",
              "         ...  \n",
              "49995    False\n",
              "49996    False\n",
              "49997    False\n",
              "49998    False\n",
              "49999    False\n",
              "Name: posting_id, Length: 50000, dtype: bool"
            ]
          },
          "metadata": {
            "tags": []
          },
          "execution_count": 30
        }
      ]
    },
    {
      "cell_type": "code",
      "metadata": {
        "id": "ctrYSU_R_FK3",
        "outputId": "33862e6f-2da0-42ee-cfcc-801f157ba83c",
        "colab": {
          "base_uri": "https://localhost:8080/"
        }
      },
      "source": [
        "# to make a separate dataframe where clear date is null\n",
        "df_null_cd=df.clear_date.isnull()\n",
        "df_null_cd"
      ],
      "execution_count": 35,
      "outputs": [
        {
          "output_type": "execute_result",
          "data": {
            "text/plain": [
              "0        False\n",
              "1        False\n",
              "2        False\n",
              "3        False\n",
              "4        False\n",
              "         ...  \n",
              "49995     True\n",
              "49996     True\n",
              "49997     True\n",
              "49998     True\n",
              "49999     True\n",
              "Name: clear_date, Length: 50000, dtype: bool"
            ]
          },
          "metadata": {
            "tags": []
          },
          "execution_count": 35
        }
      ]
    },
    {
      "cell_type": "code",
      "metadata": {
        "colab": {
          "base_uri": "https://localhost:8080/",
          "height": 476
        },
        "id": "mxajye-Cw7gt",
        "outputId": "da39815d-b1e0-4276-aeac-cc2bbedbf91b"
      },
      "source": [
        "# bar graph of 3 dates\n",
        "\n",
        "# importing matplotlib\n",
        "import matplotlib.pyplot\n",
        "\n",
        "# creating a dataframe \n",
        "df = pd.DataFrame(np.random.rand(10, 3), columns =['posting_date', 'clear_date', 'due_in_date'])\n",
        "  \n",
        "print(df)\n",
        "\n",
        "# using a function df.plot.bar()\n",
        "df.plot.bar()"
      ],
      "execution_count": null,
      "outputs": [
        {
          "output_type": "stream",
          "text": [
            "   posting_date  clear_date  due_in_date\n",
            "0      0.203646    0.404656     0.134426\n",
            "1      0.369195    0.692170     0.066619\n",
            "2      0.162723    0.928813     0.880312\n",
            "3      0.645993    0.463440     0.609752\n",
            "4      0.719682    0.455440     0.379434\n",
            "5      0.842039    0.302307     0.424737\n",
            "6      0.150502    0.448847     0.765932\n",
            "7      0.316247    0.190548     0.012477\n",
            "8      0.983777    0.976060     0.750676\n",
            "9      0.329716    0.244732     0.621885\n"
          ],
          "name": "stdout"
        },
        {
          "output_type": "execute_result",
          "data": {
            "text/plain": [
              "<matplotlib.axes._subplots.AxesSubplot at 0x7f3c35b4b650>"
            ]
          },
          "metadata": {
            "tags": []
          },
          "execution_count": 27
        },
        {
          "output_type": "display_data",
          "data": {
            "image/png": "[encoded data removed]",
            "text/plain": [
              "<Figure size 432x288 with 1 Axes>"
            ]
          },
          "metadata": {
            "tags": [],
            "needs_background": "light"
          }
        }
      ]
    },
    {
      "cell_type": "code",
      "metadata": {
        "colab": {
          "base_uri": "https://localhost:8080/"
        },
        "id": "3Io8rqFG5mCm",
        "outputId": "eae8c8b6-b9f8-4629-a74b-45b40ede0fbe"
      },
      "source": [
        "df.dtypes"
      ],
      "execution_count": 31,
      "outputs": [
        {
          "output_type": "execute_result",
          "data": {
            "text/plain": [
              "business_code                     object\n",
              "cust_number                       object\n",
              "name_customer                     object\n",
              "clear_date                datetime64[ns]\n",
              "buisness_year                    float64\n",
              "doc_id                           float64\n",
              "posting_date              datetime64[ns]\n",
              "document_create_date.1    datetime64[ns]\n",
              "due_in_date               datetime64[ns]\n",
              "invoice_currency                  object\n",
              "document type                     object\n",
              "posting_id                       float64\n",
              "total_open_amount                float64\n",
              "baseline_create_date      datetime64[ns]\n",
              "cust_payment_terms                object\n",
              "invoice_id                       float64\n",
              "isOpen                             int64\n",
              "dtype: object"
            ]
          },
          "metadata": {
            "tags": []
          },
          "execution_count": 31
        }
      ]
    },
    {
      "cell_type": "code",
      "metadata": {
        "colab": {
          "base_uri": "https://localhost:8080/"
        },
        "id": "zjqbXeZx8lqY",
        "outputId": "cbcfef0c-2bca-4bc3-bf6e-e8a104c1209c"
      },
      "source": [
        "# correlation\n",
        "# A positive correlation indicates the extent to which those variables increase\n",
        "# or decrease in parallel; a negative correlation indicates the extent to which one variable\n",
        "# increases as the other decreases.\n",
        "print(df.corr())"
      ],
      "execution_count": null,
      "outputs": [
        {
          "output_type": "stream",
          "text": [
            "                   buisness_year    doc_id  ...  invoice_id    isOpen\n",
            "buisness_year           1.000000 -0.019292  ...   -0.017969  0.754873\n",
            "doc_id                 -0.019292  1.000000  ...    1.000000 -0.015280\n",
            "posting_id                   NaN       NaN  ...         NaN       NaN\n",
            "total_open_amount       0.001829  0.183193  ...    0.193003  0.010064\n",
            "invoice_id             -0.017969  1.000000  ...    1.000000 -0.014312\n",
            "isOpen                  0.754873 -0.015280  ...   -0.014312  1.000000\n",
            "\n",
            "[6 rows x 6 columns]\n"
          ],
          "name": "stdout"
        }
      ]
    },
    {
      "cell_type": "code",
      "metadata": {
        "colab": {
          "base_uri": "https://localhost:8080/",
          "height": 235
        },
        "id": "K_mqMMXi9o4P",
        "outputId": "29eb7bf2-5b99-422b-cf9f-15ff0649f7b0"
      },
      "source": [
        "# statistics, covariance is a measure of the joint variability of two random variables. the variables tend to\n",
        "# show the opposite behavior), the covariance is negative.\n",
        "df.cov()"
      ],
      "execution_count": null,
      "outputs": [
        {
          "output_type": "execute_result",
          "data": {
            "text/html": [
              "<div>\n",
              "<style scoped>\n",
              "    .dataframe tbody tr th:only-of-type {\n",
              "        vertical-align: middle;\n",
              "    }\n",
              "\n",
              "    .dataframe tbody tr th {\n",
              "        vertical-align: top;\n",
              "    }\n",
              "\n",
              "    .dataframe thead th {\n",
              "        text-align: right;\n",
              "    }\n",
              "</style>\n",
              "<table border=\"1\" class=\"dataframe\">\n",
              "  <thead>\n",
              "    <tr style=\"text-align: right;\">\n",
              "      <th></th>\n",
              "      <th>buisness_year</th>\n",
              "      <th>doc_id</th>\n",
              "      <th>posting_id</th>\n",
              "      <th>total_open_amount</th>\n",
              "      <th>invoice_id</th>\n",
              "      <th>isOpen</th>\n",
              "    </tr>\n",
              "  </thead>\n",
              "  <tbody>\n",
              "    <tr>\n",
              "      <th>buisness_year</th>\n",
              "      <td>2.119558e-01</td>\n",
              "      <td>-2.550766e+06</td>\n",
              "      <td>0.0</td>\n",
              "      <td>3.415947e+01</td>\n",
              "      <td>-2.276971e+06</td>\n",
              "      <td>1.390148e-01</td>\n",
              "    </tr>\n",
              "    <tr>\n",
              "      <th>doc_id</th>\n",
              "      <td>-2.550766e+06</td>\n",
              "      <td>8.247474e+16</td>\n",
              "      <td>0.0</td>\n",
              "      <td>2.134592e+12</td>\n",
              "      <td>7.575335e+16</td>\n",
              "      <td>-1.755281e+06</td>\n",
              "    </tr>\n",
              "    <tr>\n",
              "      <th>posting_id</th>\n",
              "      <td>0.000000e+00</td>\n",
              "      <td>0.000000e+00</td>\n",
              "      <td>0.0</td>\n",
              "      <td>0.000000e+00</td>\n",
              "      <td>0.000000e+00</td>\n",
              "      <td>0.000000e+00</td>\n",
              "    </tr>\n",
              "    <tr>\n",
              "      <th>total_open_amount</th>\n",
              "      <td>3.415947e+01</td>\n",
              "      <td>2.134592e+12</td>\n",
              "      <td>0.0</td>\n",
              "      <td>1.646225e+09</td>\n",
              "      <td>2.155376e+12</td>\n",
              "      <td>1.633409e+02</td>\n",
              "    </tr>\n",
              "    <tr>\n",
              "      <th>invoice_id</th>\n",
              "      <td>-2.276971e+06</td>\n",
              "      <td>7.575335e+16</td>\n",
              "      <td>0.0</td>\n",
              "      <td>2.155376e+12</td>\n",
              "      <td>7.575335e+16</td>\n",
              "      <td>-1.575718e+06</td>\n",
              "    </tr>\n",
              "    <tr>\n",
              "      <th>isOpen</th>\n",
              "      <td>1.390148e-01</td>\n",
              "      <td>-1.755281e+06</td>\n",
              "      <td>0.0</td>\n",
              "      <td>1.633409e+02</td>\n",
              "      <td>-1.575718e+06</td>\n",
              "      <td>1.600032e-01</td>\n",
              "    </tr>\n",
              "  </tbody>\n",
              "</table>\n",
              "</div>"
            ],
            "text/plain": [
              "                   buisness_year        doc_id  ...    invoice_id        isOpen\n",
              "buisness_year       2.119558e-01 -2.550766e+06  ... -2.276971e+06  1.390148e-01\n",
              "doc_id             -2.550766e+06  8.247474e+16  ...  7.575335e+16 -1.755281e+06\n",
              "posting_id          0.000000e+00  0.000000e+00  ...  0.000000e+00  0.000000e+00\n",
              "total_open_amount   3.415947e+01  2.134592e+12  ...  2.155376e+12  1.633409e+02\n",
              "invoice_id         -2.276971e+06  7.575335e+16  ...  7.575335e+16 -1.575718e+06\n",
              "isOpen              1.390148e-01 -1.755281e+06  ... -1.575718e+06  1.600032e-01\n",
              "\n",
              "[6 rows x 6 columns]"
            ]
          },
          "metadata": {
            "tags": []
          },
          "execution_count": 89
        }
      ]
    },
    {
      "cell_type": "code",
      "metadata": {
        "colab": {
          "base_uri": "https://localhost:8080/"
        },
        "id": "fUQ0k0_t_KeO",
        "outputId": "352792bd-2ec7-4f96-b75e-3d4de5916257"
      },
      "source": [
        "df['total_open_amount'].mean()"
      ],
      "execution_count": null,
      "outputs": [
        {
          "output_type": "execute_result",
          "data": {
            "text/plain": [
              "32537.285580799493"
            ]
          },
          "metadata": {
            "tags": []
          },
          "execution_count": 92
        }
      ]
    },
    {
      "cell_type": "code",
      "metadata": {
        "colab": {
          "base_uri": "https://localhost:8080/"
        },
        "id": "2aFEnOlb_Z-k",
        "outputId": "263fd4fd-602f-4510-ea01-cfeb21725733"
      },
      "source": [
        "df['total_open_amount'].median()"
      ],
      "execution_count": null,
      "outputs": [
        {
          "output_type": "execute_result",
          "data": {
            "text/plain": [
              "17425.98"
            ]
          },
          "metadata": {
            "tags": []
          },
          "execution_count": 93
        }
      ]
    },
    {
      "cell_type": "code",
      "metadata": {
        "colab": {
          "base_uri": "https://localhost:8080/"
        },
        "id": "tuI0pCu4_phx",
        "outputId": "ff33df48-e189-484b-adee-5c38aaa15ef6"
      },
      "source": [
        "df['total_open_amount'].mode()"
      ],
      "execution_count": null,
      "outputs": [
        {
          "output_type": "execute_result",
          "data": {
            "text/plain": [
              "0    1898.2\n",
              "dtype: float64"
            ]
          },
          "metadata": {
            "tags": []
          },
          "execution_count": 94
        }
      ]
    },
    {
      "cell_type": "code",
      "metadata": {
        "colab": {
          "base_uri": "https://localhost:8080/",
          "height": 296
        },
        "id": "Q61nQfssBdL8",
        "outputId": "ef029eb2-1bc2-45f6-dd90-8f854082cf12"
      },
      "source": [
        "# SCATTER PLOT TO FIND OUT OUTLIER\n",
        "df.plot.scatter(x='posting_date', y='clear_date', title= \"Scatter plot between two variables X and Y\");\n",
        "\n",
        "plot.show(block=True);"
      ],
      "execution_count": null,
      "outputs": [
        {
          "output_type": "display_data",
          "data": {
            "image/png": "[encoded data removed]",
            "text/plain": [
              "<Figure size 432x288 with 1 Axes>"
            ]
          },
          "metadata": {
            "tags": [],
            "needs_background": "light"
          }
        }
      ]
    },
    {
      "cell_type": "code",
      "metadata": {
        "colab": {
          "base_uri": "https://localhost:8080/",
          "height": 336
        },
        "id": "rNFVChROB4gi",
        "outputId": "fac41e6e-e104-49f7-83b7-c3de9bcab14e"
      },
      "source": [
        "import seaborn as sns\n",
        "sns.distplot(df.due_in_date.dropna(), kde=False, bins = 39);"
      ],
      "execution_count": null,
      "outputs": [
        {
          "output_type": "stream",
          "text": [
            "/usr/local/lib/python3.7/dist-packages/seaborn/distributions.py:2557: FutureWarning: `distplot` is a deprecated function and will be removed in a future version. Please adapt your code to use either `displot` (a figure-level function with similar flexibility) or `histplot` (an axes-level function for histograms).\n",
            "  warnings.warn(msg, FutureWarning)\n"
          ],
          "name": "stderr"
        },
        {
          "output_type": "display_data",
          "data": {
            "image/png": "[encoded data removed]",
            "text/plain": [
              "<Figure size 432x288 with 1 Axes>"
            ]
          },
          "metadata": {
            "tags": [],
            "needs_background": "light"
          }
        }
      ]
    },
    {
      "cell_type": "code",
      "metadata": {
        "colab": {
          "base_uri": "https://localhost:8080/"
        },
        "id": "o1MwP5SsHfWO",
        "outputId": "2fa520d7-eb75-450a-ff89-4cf3e8ca13ec"
      },
      "source": [
        "# check the presence of null data.\n",
        "\n",
        "[col for col in df.columns if df[col].isnull().sum() > 0]"
      ],
      "execution_count": null,
      "outputs": [
        {
          "output_type": "execute_result",
          "data": {
            "text/plain": [
              "['clear_date', 'invoice_id']"
            ]
          },
          "metadata": {
            "tags": []
          },
          "execution_count": 103
        }
      ]
    },
    {
      "cell_type": "code",
      "metadata": {
        "colab": {
          "base_uri": "https://localhost:8080/",
          "height": 168
        },
        "id": "D0UAygzsHy8O",
        "outputId": "66bb2866-2e77-4909-8ac0-765fb4b5e148"
      },
      "source": [
        "df[delay]=df['clear_date'] - df['due_in_date']\n"
      ],
      "execution_count": null,
      "outputs": [
        {
          "output_type": "error",
          "ename": "NameError",
          "evalue": "ignored",
          "traceback": [
            "\u001b[0;31m---------------------------------------------------------------------------\u001b[0m",
            "\u001b[0;31mNameError\u001b[0m                                 Traceback (most recent call last)",
            "\u001b[0;32m<ipython-input-111-84fa7346f7e4>\u001b[0m in \u001b[0;36m<module>\u001b[0;34m()\u001b[0m\n\u001b[0;32m----> 1\u001b[0;31m \u001b[0mdf\u001b[0m\u001b[0;34m[\u001b[0m\u001b[0mdelay\u001b[0m\u001b[0;34m]\u001b[0m\u001b[0;34m=\u001b[0m\u001b[0mdf\u001b[0m\u001b[0;34m[\u001b[0m\u001b[0;34m'clear_date'\u001b[0m\u001b[0;34m]\u001b[0m \u001b[0;34m-\u001b[0m \u001b[0mdf\u001b[0m\u001b[0;34m[\u001b[0m\u001b[0;34m'due_in_date'\u001b[0m\u001b[0;34m]\u001b[0m\u001b[0;34m\u001b[0m\u001b[0;34m\u001b[0m\u001b[0m\n\u001b[0m",
            "\u001b[0;31mNameError\u001b[0m: name 'delay' is not defined"
          ]
        }
      ]
    }
  ]
}